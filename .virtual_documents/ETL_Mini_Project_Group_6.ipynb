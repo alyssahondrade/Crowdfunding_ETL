# Import dependencies
import pandas as pd
import numpy as np
pd.set_option('max_colwidth', 400)





# Read the data into a Pandas DataFrame
crowdfunding_info_df = pd.read_excel('Resources/crowdfunding.xlsx')
crowdfunding_info_df.head()


# Get a brief summary of the crowdfunding_info DataFrame.
crowdfunding_info_df.info()





# Get the crowdfunding_info_df columns.
crowdfunding_info_df.columns


# Assign the category and subcategory values to category and subcategory columns.
crowdfunding_info_df[['category', 'subcategory']] = crowdfunding_info_df['category & sub-category'].str.split("/", n=1, expand=True)
crowdfunding_info_df.head()


# Get the unique categories and subcategories in separate lists.
categories = crowdfunding_info_df['category'].unique().tolist()
print(f'Categories:\n{categories}\n')

subcategories = crowdfunding_info_df['subcategory'].unique().tolist()
print(f'Subcategories:\n{subcategories}')


# Get the number of distinct values in the categories and subcategories lists.
print(f'Categories: {len(categories)}')
print(f'Subcategories: {len(subcategories)}')


# Create numpy arrays from 1-9 for the categories and 1-24 for the subcategories.
category_ids = np.arange(1, 10)
subcategory_ids = np.arange(1, 25)

print(f'Categories: {category_ids}')
print(f'Subcategories: {subcategory_ids}')


# Use a list comprehension to add "cat" to each category_id. 
cat_ids = ['cat' + str(i) for i in category_ids]
print(f'Category IDs:\n{cat_ids}\n')

# Use a list comprehension to add "subcat" to each subcategory_id.    
scat_ids = ['subcat' + str(i) for i in subcategory_ids]
print(f'Subcategory IDs:\n{scat_ids}')


# Create a category DataFrame with the category_id array as the category_id and categories list as the category name.
category_df = pd.DataFrame({'category_id': cat_ids, 'category':categories})

# Create a category DataFrame with the subcategory_id array as the subcategory_id and subcategories list as the subcategory name. 
subcategory_df = pd.DataFrame({'subcategory_id':scat_ids, 'subcategory':subcategories})


# Display the category DataFrame
category_df


# Display the subcategory DataFrame
subcategory_df


# Export categories_df and subcategories_df as CSV files.
category_df.to_csv("Resources/category.csv", index=False)

subcategory_df.to_csv("Resources/subcategory.csv", index=False)





# Create a copy of the crowdfunding_info_df DataFrame name campaign_df. 
campaign_df = crowdfunding_info_df.copy()
campaign_df.head()


#array of columns for easier updating
campaign_df.columns


# Rename the blurb, launched_at, and deadline columns.
campaign_df = campaign_df.rename(columns={
    'blurb': "description",
    'launched_at': "launched_date",
    'deadline': "end_date"})
campaign_df.head()


# Convert the goal and pledged columns to a `float` data type.
campaign_df[['goal', 'pledged']] = campaign_df[['goal', 'pledged']].astype(float)
campaign_df.head()


# Check the datatypes
campaign_df.dtypes


# Format the launched_date and end_date columns to datetime format
from datetime import datetime as dt

# Convert from UNIX to a datetime object with format '%Y-%m-%d %H-%M-%S'
campaign_df['launched_date'] = pd.to_datetime(campaign_df['launched_date'], unit='s')
campaign_df['end_date'] = pd.to_datetime(campaign_df['end_date'], unit='s')

# Convert datatime object to a string with format '%Y-%m-%d'
campaign_df['launched_date'] = pd.to_datetime(campaign_df['launched_date']).dt.strftime('%Y-%m-%d')
campaign_df['end_date'] = pd.to_datetime(campaign_df['end_date']).dt.strftime('%Y-%m-%d')

# Convert to a datetime object with correct format
campaign_df['launched_date'] = pd.to_datetime(campaign_df['launched_date'])
campaign_df['end_date'] = pd.to_datetime(campaign_df['end_date'])

campaign_df.head()


# Merge the campaign_df with the category_df on the "category" column and 
# the subcategory_df on the "subcategory" column.

# Merge category_df on the "category" column
campaign_merged_df = campaign_df.merge(category_df, on='category')

# Merge subcategory_df on the "subcategory" column
campaign_merged_df = campaign_merged_df.merge(subcategory_df, on='subcategory')

# Display the last 10 rows of the DataFrame
campaign_merged_df.tail(10)


# Drop unwanted columns
campaign_cleaned = campaign_merged_df.drop(columns=['staff_pick', 'spotlight', 'category & sub-category', 'category', 'subcategory'])
campaign_cleaned.head()


# Export the DataFrame as a CSV file. 
campaign_cleaned.to_csv("Resources/campaign.csv", index=False)





# Read the data into a Pandas DataFrame. Use the `header=2` parameter when reading in the data.
contact_info_df = pd.read_excel('Resources/contacts.xlsx', header=2)

# Assign 'contact_info' as the column name
contact_info_df.columns = [contact_info_df.iloc[0,0]]
contact_info_df = contact_info_df.drop(index=0)

# Display the DataFrame
contact_info_df.head()








# Iterate through the contact_info_df and convert each row to a dictionary.
import json
dict_values = []

for idx, row in contact_info_df.iterrows():
    # Convert each row to a dictionary
    data = row.values[0]
    converted_data = json.loads(data)

    # Get the column names
    column_names = [key for key,value in converted_data.items()]
    
    # Get the values as a list and append to dict_values
    row_values = [value for value in converted_data.values()]
    dict_values.append(row_values)

# Print out the list of values for each row.
print(dict_values)


# Create a contact_info DataFrame and add each list of values, i.e., each row 
# to the 'contact_id', 'name', 'email' columns.
contact_info = pd.DataFrame(dict_values, columns=column_names)
contact_info.head()


# Check the datatypes.
contact_info.info()


# Create a "first"name" and "last_name" column with the first and last names from the "name" column. 
contact_info[['first_name', 'last_name']] = contact_info['name'].str.split(" ", n=1, expand=True)

# Drop the contact_name column
contact_info = contact_info.drop(columns=['name'])
contact_info.head(10)


# Reorder the columns
contacts_df_clean = contact_info[['contact_id', 'first_name', 'last_name', 'email']]
contacts_df_clean.head(10)


# Check the datatypes one more time before exporting as CSV file.
contacts_df_clean.info()


# Export the DataFrame as a CSV file. 
contacts_df_clean.to_csv("Resources/contacts.csv", encoding='utf8', index=False)





contact_info_df_copy = contact_info_df.copy()
contact_info_df_copy.head()


# Extract the four-digit contact ID number.
pattern = '(\d{4})'
contact_info_df_copy['contact_id'] = contact_info_df_copy['contact_info'].str.extractall(pattern).values
contact_info_df_copy.head()


# Check the datatypes.
contact_info_df_copy.info()


# Convert the "contact_id" column to an int64 data type.
contact_info_df_copy = contact_info_df_copy.astype({'contact_id': int})
contact_info_df_copy.info()


# Extract the name of the contact and add it to a new column.
pattern = '(\w+\s\w+)'
contact_info_df_copy['name'] = contact_info_df_copy['contact_info'].str.extractall(pattern).values
contact_info_df_copy.head(10)


# Extract the email from the contacts and add the values to a new column.
pattern = '(\w+\.\w+@[\w+\.\w+]+)'
contact_info_df_copy['email'] = contact_info_df_copy['contact_info'].str.extractall(pattern).values
contact_info_df_copy.head(10)


# Create a copy of the contact_info_df with the 'contact_id', 'name', 'email' columns.
contact_info_df_copy = contact_info_df_copy.drop(columns=['contact_info'])
contact_info_df_copy.head(10)


# Create a "first"name" and "last_name" column with the first and last names from the "name" column. 
contact_info_df_copy[['first_name', 'last_name']] = contact_info_df_copy['name'].str.split(" ", n=2, expand=True)

# Drop the contact_name column
contact_info_df_copy = contact_info_df_copy.drop(columns=['name'])
contact_info_df_copy.head(10)


# Reorder the columns
contacts_df_clean = contact_info_df_copy[['contact_id', 'first_name', 'last_name', 'email']]
contacts_df_clean.head(10)


# Check the datatypes one more time before exporting as CSV file.
contacts_df_clean.info()


# Export the DataFrame as a CSV file. 
# contacts_df_clean.to_csv("Resources/contacts.csv", encoding='utf8', index=False)





# Convert the dtypes result to a DataFrame
dtype_df = pd.DataFrame(campaign_cleaned.dtypes, columns=['type'])

# Get columns either: object/VARCHAR or float64/FLOAT(p)
length_cols = dtype_df.loc[(dtype_df['type'] == "float64") | (dtype_df['type'] == "object")].index

for col_name in length_cols:
    # Variables to save the longest character and the word
    max_char = 0
    max_word = ""

    # Loop through each column
    for word in campaign_cleaned[col_name]:
        if len(str(word)) > max_char:
            max_char = len(str(word))
            max_word = str(word)

    # Print the longest values
    print(f'{col_name}: {max_char}, {max_word}')


# Get the longest values for contacts_df
dtype_df = pd.DataFrame(contacts_df_clean.dtypes, columns=['type'])
length_cols = dtype_df.loc[(dtype_df['type'] == "float64") | (dtype_df['type'] == "object")].index
for col_name in length_cols:
    max_char = 0
    max_word = ""
    for word in contacts_df_clean[col_name]:
        if len(str(word)) > max_char:
            max_char = len(str(word))
            max_word = str(word)
    print(f'{col_name}: {max_char}, {max_word}')



